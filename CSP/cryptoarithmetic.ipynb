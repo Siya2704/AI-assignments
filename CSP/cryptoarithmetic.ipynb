{
 "cells": [
  {
   "cell_type": "code",
   "execution_count": 2,
   "id": "f38332b4",
   "metadata": {},
   "outputs": [
    {
     "name": "stdout",
     "output_type": "stream",
     "text": [
      "No of Solutions:  7\n",
      "[{'F': 1, 'T': 7, 'O': 5, 'R': 0, 'U': 3, 'W': 6}, {'F': 1, 'T': 7, 'O': 4, 'R': 8, 'U': 6, 'W': 3}, {'F': 1, 'T': 8, 'O': 7, 'R': 4, 'U': 3, 'W': 6}, {'F': 1, 'T': 8, 'O': 6, 'R': 2, 'U': 9, 'W': 4}, {'F': 1, 'T': 8, 'O': 6, 'R': 2, 'U': 7, 'W': 3}, {'F': 1, 'T': 9, 'O': 8, 'R': 6, 'U': 5, 'W': 2}, {'F': 1, 'T': 9, 'O': 8, 'R': 6, 'U': 7, 'W': 3}]\n"
     ]
    }
   ],
   "source": [
    "#TWO+TWO=FOUR\n",
    "from constraint import *\n",
    "problem = Problem()\n",
    "problem.addVariables('TF',range(1,10))\n",
    "problem.addVariables('WOUR',range(10))\n",
    "def sum_constraint(t,w,o,f,u,r):\n",
    "    if 2*(t*100+w*10+o) == f*1000+o*100+u*10+r:\n",
    "        return True\n",
    "problem.addConstraint(sum_constraint,'TWOFUR')\n",
    "problem.addConstraint(AllDifferentConstraint())\n",
    "solutions = problem.getSolutions()\n",
    "length = len(solutions)\n",
    "print(\"No of Solutions: \", length)\n",
    "print(solutions)"
   ]
  },
  {
   "cell_type": "code",
   "execution_count": null,
   "id": "d0afb6b1",
   "metadata": {},
   "outputs": [],
   "source": []
  }
 ],
 "metadata": {
  "kernelspec": {
   "display_name": "Python 3",
   "language": "python",
   "name": "python3"
  },
  "language_info": {
   "codemirror_mode": {
    "name": "ipython",
    "version": 3
   },
   "file_extension": ".py",
   "mimetype": "text/x-python",
   "name": "python",
   "nbconvert_exporter": "python",
   "pygments_lexer": "ipython3",
   "version": "3.8.8"
  }
 },
 "nbformat": 4,
 "nbformat_minor": 5
}
